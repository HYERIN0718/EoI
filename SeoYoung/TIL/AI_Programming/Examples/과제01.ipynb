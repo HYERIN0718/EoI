{
  "nbformat": 4,
  "nbformat_minor": 0,
  "metadata": {
    "colab": {
      "name": "Untitled5.ipynb",
      "provenance": [],
      "authorship_tag": "ABX9TyNcqotn1gAs3fvquQps+WSg",
      "include_colab_link": true
    },
    "kernelspec": {
      "name": "python3",
      "display_name": "Python 3"
    },
    "language_info": {
      "name": "python"
    }
  },
  "cells": [
    {
      "cell_type": "markdown",
      "metadata": {
        "id": "view-in-github",
        "colab_type": "text"
      },
      "source": [
        "<a href=\"https://colab.research.google.com/github/WESTZERO115/EoI/blob/main/SeoYoung/TIL/AI_Programming/Examples/%EA%B3%BC%EC%A0%9C01.ipynb\" target=\"_parent\"><img src=\"https://colab.research.google.com/assets/colab-badge.svg\" alt=\"Open In Colab\"/></a>"
      ]
    },
    {
      "cell_type": "code",
      "metadata": {
        "colab": {
          "base_uri": "https://localhost:8080/",
          "height": 357
        },
        "id": "m895_AGeYJYN",
        "outputId": "7c686ec2-ae41-4aad-86bb-e1f38f1ce62b"
      },
      "source": [
        "import numpy as np\n",
        "import tensorflow as tf\n",
        "from tensorflow.keras.datasets import fashion_mnist\n",
        "from tensorflow.keras.models import Sequential\n",
        "from tensorflow.keras.layers import Dense\n",
        "from tensorflow.keras.optimizers import SGD, Adam, Adagrad, RMSprop\n",
        "from sklearn.model_selection import KFold\n",
        "import time\n",
        "\n",
        "(x_train, y_train), (x_test, y_test) = fashion_mnist.load_data()\n",
        "x_train = x_train.reshape(60000, 784)\n",
        "x_test = x_test.reshape(10000,784)\n",
        "x_train = x_train.astype(np.float32)/255.0\n",
        "x_test = x_test.astype(np.float32)/255.0\n",
        "y_train = tf.keras.utils.to_categorical(y_train, 10)\n",
        "y_test = tf.keras.utils.to_categorical(y_test, 10)\n",
        "\n",
        "n_input=784\n",
        "n_hidden1=1024\n",
        "n_hidden2=512\n",
        "n_hidden3=512\n",
        "n_output=10\n",
        "\n",
        "batch_siz=256\n",
        "n_epoch=20\n",
        "k=3\n",
        "\n",
        "def build_model():\n",
        "  model = Sequential()\n",
        "  model.add(Dense(units=n_hidden1, activation='relu', input_shape=(n_input,)))\n",
        "  model.add(Dense(units=n_hidden2, activation='relu'))\n",
        "  model.add(Dense(units=n_hidden3, activation='relu'))\n",
        "  model.add(Dense(units=n_output, activation='softmax'))\n",
        "  return model\n",
        "\n",
        "def cross_validation(opt):\n",
        "  accuracy=[]\n",
        "  for train_index, val_index in KFold(k).split(x_train):\n",
        "    xtrain,xval = x_train[train_index], x_train[val_index]\n",
        "    ytrain,yval = y_train[train_index], y_train[val_index]\n",
        "    dmlp=build_model()\n",
        "    dmlp.compile(loss='categorical_crossentropy', optimizer=opt, metrics=['accuracy'])\n",
        "    dmlp.fit(xtrain, ytrain, batch_size=batch_siz, epochs = n_epoch, verbose=0)\n",
        "    accuracy.append(dmlp.evaluate(xval, yval, verbose=0)[1])\n",
        "  return accuracy\n",
        "\n",
        "start = time.time()\n",
        "acc_sgd = cross_validation(SGD())\n",
        "acc_adam = cross_validation(Adam()) \n",
        "acc_adagrad = cross_validation(Adagrad())\n",
        "acc_rmsprop = cross_validation(RMSprop())\n",
        "end = time.time()\n",
        "\n",
        "print(\"SGD:\", np.array(acc_sgd).mean())\n",
        "print(\"Adam:\", np.array(acc_adam).mean())\n",
        "print(\"Adagrad:\", np.array(acc_adagrad).mean())\n",
        "print(\"RMSprop:\", np.array(acc_rmsprop).mean())\n",
        "print(\"걸린 시간은 \", end-start, \"초입니다.\")\n",
        "\n",
        "import matplotlib.pyplot as plt\n",
        "\n",
        "plt.boxplot([acc_sgd, acc_adam, acc_adagrad, acc_rmsprop], labels=[\"SGD\", \"Adam\", \"Adagrad\", \"RMSprop\"])\n",
        "plt.grid()"
      ],
      "execution_count": 2,
      "outputs": [
        {
          "output_type": "stream",
          "name": "stdout",
          "text": [
            "SGD: 0.8251166741053263\n",
            "Adam: 0.892633338769277\n",
            "Adagrad: 0.8248999913533529\n",
            "RMSprop: 0.8707500100135803\n",
            "걸린 시간은  1591.1131329536438 초입니다.\n"
          ]
        },
        {
          "output_type": "display_data",
          "data": {
            "image/png": "[encoded data removed]",
            "text/plain": [
              "<Figure size 432x288 with 1 Axes>"
            ]
          },
          "metadata": {
            "needs_background": "light"
          }
        }
      ]
    }
  ]
}